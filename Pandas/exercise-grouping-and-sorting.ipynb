{
 "cells": [
  {
   "cell_type": "markdown",
   "id": "f37f3fdf",
   "metadata": {
    "papermill": {
     "duration": 0.008297,
     "end_time": "2023-05-28T19:47:00.165571",
     "exception": false,
     "start_time": "2023-05-28T19:47:00.157274",
     "status": "completed"
    },
    "tags": []
   },
   "source": [
    "**This notebook is an exercise in the [Pandas](https://www.kaggle.com/learn/pandas) course.  You can reference the tutorial at [this link](https://www.kaggle.com/residentmario/grouping-and-sorting).**\n",
    "\n",
    "---\n"
   ]
  },
  {
   "cell_type": "markdown",
   "id": "a3df6756",
   "metadata": {
    "papermill": {
     "duration": 0.007475,
     "end_time": "2023-05-28T19:47:00.180935",
     "exception": false,
     "start_time": "2023-05-28T19:47:00.173460",
     "status": "completed"
    },
    "tags": []
   },
   "source": [
    "# Introduction\n",
    "\n",
    "In these exercises we'll apply groupwise analysis to our dataset.\n",
    "\n",
    "Run the code cell below to load the data before running the exercises."
   ]
  },
  {
   "cell_type": "code",
   "execution_count": 1,
   "id": "b53f0e2c",
   "metadata": {
    "execution": {
     "iopub.execute_input": "2023-05-28T19:47:00.198070Z",
     "iopub.status.busy": "2023-05-28T19:47:00.197662Z",
     "iopub.status.idle": "2023-05-28T19:47:03.714606Z",
     "shell.execute_reply": "2023-05-28T19:47:03.712978Z"
    },
    "papermill": {
     "duration": 3.528821,
     "end_time": "2023-05-28T19:47:03.717589",
     "exception": false,
     "start_time": "2023-05-28T19:47:00.188768",
     "status": "completed"
    },
    "tags": []
   },
   "outputs": [
    {
     "name": "stdout",
     "output_type": "stream",
     "text": [
      "Setup complete.\n"
     ]
    }
   ],
   "source": [
    "import pandas as pd\n",
    "\n",
    "reviews = pd.read_csv(\"../input/wine-reviews/winemag-data-130k-v2.csv\", index_col=0)\n",
    "#pd.set_option(\"display.max_rows\", 5)\n",
    "\n",
    "from learntools.core import binder; binder.bind(globals())\n",
    "from learntools.pandas.grouping_and_sorting import *\n",
    "print(\"Setup complete.\")"
   ]
  },
  {
   "cell_type": "markdown",
   "id": "4819b4dd",
   "metadata": {
    "papermill": {
     "duration": 0.007729,
     "end_time": "2023-05-28T19:47:03.733597",
     "exception": false,
     "start_time": "2023-05-28T19:47:03.725868",
     "status": "completed"
    },
    "tags": []
   },
   "source": [
    "# Exercises"
   ]
  },
  {
   "cell_type": "markdown",
   "id": "b359dfef",
   "metadata": {
    "papermill": {
     "duration": 0.009396,
     "end_time": "2023-05-28T19:47:03.750995",
     "exception": false,
     "start_time": "2023-05-28T19:47:03.741599",
     "status": "completed"
    },
    "tags": []
   },
   "source": [
    "## 1.\n",
    "Who are the most common wine reviewers in the dataset? Create a `Series` whose index is the `taster_twitter_handle` category from the dataset, and whose values count how many reviews each person wrote."
   ]
  },
  {
   "cell_type": "code",
   "execution_count": 2,
   "id": "4fca0503",
   "metadata": {
    "execution": {
     "iopub.execute_input": "2023-05-28T19:47:03.768363Z",
     "iopub.status.busy": "2023-05-28T19:47:03.767923Z",
     "iopub.status.idle": "2023-05-28T19:47:03.802814Z",
     "shell.execute_reply": "2023-05-28T19:47:03.801762Z"
    },
    "papermill": {
     "duration": 0.046668,
     "end_time": "2023-05-28T19:47:03.805462",
     "exception": false,
     "start_time": "2023-05-28T19:47:03.758794",
     "status": "completed"
    },
    "tags": []
   },
   "outputs": [
    {
     "data": {
      "application/javascript": [
       "parent.postMessage({\"jupyterEvent\": \"custom.exercise_interaction\", \"data\": {\"outcomeType\": 1, \"valueTowardsCompletion\": 0.16666666666666666, \"interactionType\": 1, \"questionType\": 1, \"questionId\": \"1_ReviewsWritten\", \"learnToolsVersion\": \"0.3.4\", \"failureMessage\": \"\", \"exceptionClass\": \"\", \"trace\": \"\"}}, \"*\")"
      ],
      "text/plain": [
       "<IPython.core.display.Javascript object>"
      ]
     },
     "metadata": {},
     "output_type": "display_data"
    },
    {
     "data": {
      "text/markdown": [
       "<span style=\"color:#33cc33\">Correct:</span> \n",
       "\n",
       "\n",
       "```python\n",
       "reviews_written = reviews.groupby('taster_twitter_handle').size()\n",
       "```\n",
       "or\n",
       "```python\n",
       "reviews_written = reviews.groupby('taster_twitter_handle').taster_twitter_handle.count()\n",
       "```\n"
      ],
      "text/plain": [
       "Correct: \n",
       "\n",
       "\n",
       "```python\n",
       "reviews_written = reviews.groupby('taster_twitter_handle').size()\n",
       "```\n",
       "or\n",
       "```python\n",
       "reviews_written = reviews.groupby('taster_twitter_handle').taster_twitter_handle.count()\n",
       "```"
      ]
     },
     "metadata": {},
     "output_type": "display_data"
    }
   ],
   "source": [
    "# Your code here\n",
    "reviews_written = reviews.groupby('taster_twitter_handle').size()\n",
    "\n",
    "# Check your answer\n",
    "q1.check()"
   ]
  },
  {
   "cell_type": "code",
   "execution_count": 3,
   "id": "fde6e50e",
   "metadata": {
    "execution": {
     "iopub.execute_input": "2023-05-28T19:47:03.823494Z",
     "iopub.status.busy": "2023-05-28T19:47:03.823064Z",
     "iopub.status.idle": "2023-05-28T19:47:03.826964Z",
     "shell.execute_reply": "2023-05-28T19:47:03.826107Z"
    },
    "papermill": {
     "duration": 0.015479,
     "end_time": "2023-05-28T19:47:03.829121",
     "exception": false,
     "start_time": "2023-05-28T19:47:03.813642",
     "status": "completed"
    },
    "tags": []
   },
   "outputs": [],
   "source": [
    "#q1.hint()\n",
    "#q1.solution()"
   ]
  },
  {
   "cell_type": "markdown",
   "id": "5269e538",
   "metadata": {
    "papermill": {
     "duration": 0.007818,
     "end_time": "2023-05-28T19:47:03.845272",
     "exception": false,
     "start_time": "2023-05-28T19:47:03.837454",
     "status": "completed"
    },
    "tags": []
   },
   "source": [
    "## 2.\n",
    "What is the best wine I can buy for a given amount of money? Create a `Series` whose index is wine prices and whose values is the maximum number of points a wine costing that much was given in a review. Sort the values by price, ascending (so that `4.0` dollars is at the top and `3300.0` dollars is at the bottom)."
   ]
  },
  {
   "cell_type": "code",
   "execution_count": 4,
   "id": "09120a79",
   "metadata": {
    "execution": {
     "iopub.execute_input": "2023-05-28T19:47:03.863068Z",
     "iopub.status.busy": "2023-05-28T19:47:03.862665Z",
     "iopub.status.idle": "2023-05-28T19:47:03.869944Z",
     "shell.execute_reply": "2023-05-28T19:47:03.868907Z"
    },
    "papermill": {
     "duration": 0.019058,
     "end_time": "2023-05-28T19:47:03.872378",
     "exception": false,
     "start_time": "2023-05-28T19:47:03.853320",
     "status": "completed"
    },
    "tags": []
   },
   "outputs": [
    {
     "data": {
      "text/plain": [
       "Index(['country', 'description', 'designation', 'points', 'price', 'province',\n",
       "       'region_1', 'region_2', 'taster_name', 'taster_twitter_handle', 'title',\n",
       "       'variety', 'winery'],\n",
       "      dtype='object')"
      ]
     },
     "execution_count": 4,
     "metadata": {},
     "output_type": "execute_result"
    }
   ],
   "source": [
    "reviews.columns"
   ]
  },
  {
   "cell_type": "code",
   "execution_count": 5,
   "id": "0a5c2ff3",
   "metadata": {
    "execution": {
     "iopub.execute_input": "2023-05-28T19:47:03.891324Z",
     "iopub.status.busy": "2023-05-28T19:47:03.890911Z",
     "iopub.status.idle": "2023-05-28T19:47:03.905757Z",
     "shell.execute_reply": "2023-05-28T19:47:03.904581Z"
    },
    "papermill": {
     "duration": 0.027313,
     "end_time": "2023-05-28T19:47:03.908111",
     "exception": false,
     "start_time": "2023-05-28T19:47:03.880798",
     "status": "completed"
    },
    "tags": []
   },
   "outputs": [
    {
     "data": {
      "application/javascript": [
       "parent.postMessage({\"jupyterEvent\": \"custom.exercise_interaction\", \"data\": {\"outcomeType\": 1, \"valueTowardsCompletion\": 0.16666666666666666, \"interactionType\": 1, \"questionType\": 1, \"questionId\": \"2_BestRatingPerPrice\", \"learnToolsVersion\": \"0.3.4\", \"failureMessage\": \"\", \"exceptionClass\": \"\", \"trace\": \"\"}}, \"*\")"
      ],
      "text/plain": [
       "<IPython.core.display.Javascript object>"
      ]
     },
     "metadata": {},
     "output_type": "display_data"
    },
    {
     "data": {
      "text/markdown": [
       "<span style=\"color:#33cc33\">Correct</span>"
      ],
      "text/plain": [
       "Correct"
      ]
     },
     "metadata": {},
     "output_type": "display_data"
    }
   ],
   "source": [
    "best_rating_per_price = reviews.groupby('price').points.agg(max)\n",
    "\n",
    "# Check your answer\n",
    "q2.check()"
   ]
  },
  {
   "cell_type": "code",
   "execution_count": 6,
   "id": "2590b0ce",
   "metadata": {
    "execution": {
     "iopub.execute_input": "2023-05-28T19:47:03.927354Z",
     "iopub.status.busy": "2023-05-28T19:47:03.926656Z",
     "iopub.status.idle": "2023-05-28T19:47:03.931595Z",
     "shell.execute_reply": "2023-05-28T19:47:03.930390Z"
    },
    "papermill": {
     "duration": 0.017184,
     "end_time": "2023-05-28T19:47:03.933917",
     "exception": false,
     "start_time": "2023-05-28T19:47:03.916733",
     "status": "completed"
    },
    "tags": []
   },
   "outputs": [],
   "source": [
    "#q2.hint()\n",
    "#q2.solution()"
   ]
  },
  {
   "cell_type": "markdown",
   "id": "18579492",
   "metadata": {
    "papermill": {
     "duration": 0.008287,
     "end_time": "2023-05-28T19:47:03.951128",
     "exception": false,
     "start_time": "2023-05-28T19:47:03.942841",
     "status": "completed"
    },
    "tags": []
   },
   "source": [
    "## 3.\n",
    "What are the minimum and maximum prices for each `variety` of wine? Create a `DataFrame` whose index is the `variety` category from the dataset and whose values are the `min` and `max` values thereof."
   ]
  },
  {
   "cell_type": "code",
   "execution_count": 7,
   "id": "3d527f93",
   "metadata": {
    "execution": {
     "iopub.execute_input": "2023-05-28T19:47:03.970538Z",
     "iopub.status.busy": "2023-05-28T19:47:03.970120Z",
     "iopub.status.idle": "2023-05-28T19:47:04.010309Z",
     "shell.execute_reply": "2023-05-28T19:47:04.009118Z"
    },
    "papermill": {
     "duration": 0.052697,
     "end_time": "2023-05-28T19:47:04.012738",
     "exception": false,
     "start_time": "2023-05-28T19:47:03.960041",
     "status": "completed"
    },
    "tags": []
   },
   "outputs": [
    {
     "data": {
      "application/javascript": [
       "parent.postMessage({\"jupyterEvent\": \"custom.exercise_interaction\", \"data\": {\"outcomeType\": 1, \"valueTowardsCompletion\": 0.16666666666666666, \"interactionType\": 1, \"questionType\": 1, \"questionId\": \"3_PriceExtremes\", \"learnToolsVersion\": \"0.3.4\", \"failureMessage\": \"\", \"exceptionClass\": \"\", \"trace\": \"\"}}, \"*\")"
      ],
      "text/plain": [
       "<IPython.core.display.Javascript object>"
      ]
     },
     "metadata": {},
     "output_type": "display_data"
    },
    {
     "data": {
      "text/markdown": [
       "<span style=\"color:#33cc33\">Correct</span>"
      ],
      "text/plain": [
       "Correct"
      ]
     },
     "metadata": {},
     "output_type": "display_data"
    }
   ],
   "source": [
    "price_extremes = reviews.groupby('variety').price.agg([min, max])\n",
    "\n",
    "# Check your answer\n",
    "q3.check()"
   ]
  },
  {
   "cell_type": "code",
   "execution_count": 8,
   "id": "211f9c90",
   "metadata": {
    "execution": {
     "iopub.execute_input": "2023-05-28T19:47:04.033750Z",
     "iopub.status.busy": "2023-05-28T19:47:04.032891Z",
     "iopub.status.idle": "2023-05-28T19:47:04.036850Z",
     "shell.execute_reply": "2023-05-28T19:47:04.035968Z"
    },
    "papermill": {
     "duration": 0.016864,
     "end_time": "2023-05-28T19:47:04.039171",
     "exception": false,
     "start_time": "2023-05-28T19:47:04.022307",
     "status": "completed"
    },
    "tags": []
   },
   "outputs": [],
   "source": [
    "#q3.hint()\n",
    "#q3.solution()"
   ]
  },
  {
   "cell_type": "markdown",
   "id": "398ec239",
   "metadata": {
    "papermill": {
     "duration": 0.00898,
     "end_time": "2023-05-28T19:47:04.057798",
     "exception": false,
     "start_time": "2023-05-28T19:47:04.048818",
     "status": "completed"
    },
    "tags": []
   },
   "source": [
    "## 4.\n",
    "What are the most expensive wine varieties? Create a variable `sorted_varieties` containing a copy of the dataframe from the previous question where varieties are sorted in descending order based on minimum price, then on maximum price (to break ties)."
   ]
  },
  {
   "cell_type": "code",
   "execution_count": 9,
   "id": "1684008a",
   "metadata": {
    "execution": {
     "iopub.execute_input": "2023-05-28T19:47:04.078182Z",
     "iopub.status.busy": "2023-05-28T19:47:04.077567Z",
     "iopub.status.idle": "2023-05-28T19:47:04.120336Z",
     "shell.execute_reply": "2023-05-28T19:47:04.118988Z"
    },
    "papermill": {
     "duration": 0.055739,
     "end_time": "2023-05-28T19:47:04.122754",
     "exception": false,
     "start_time": "2023-05-28T19:47:04.067015",
     "status": "completed"
    },
    "tags": []
   },
   "outputs": [
    {
     "data": {
      "application/javascript": [
       "parent.postMessage({\"jupyterEvent\": \"custom.exercise_interaction\", \"data\": {\"outcomeType\": 1, \"valueTowardsCompletion\": 0.16666666666666666, \"interactionType\": 1, \"questionType\": 1, \"questionId\": \"4_SortedVarieties\", \"learnToolsVersion\": \"0.3.4\", \"failureMessage\": \"\", \"exceptionClass\": \"\", \"trace\": \"\"}}, \"*\")"
      ],
      "text/plain": [
       "<IPython.core.display.Javascript object>"
      ]
     },
     "metadata": {},
     "output_type": "display_data"
    },
    {
     "data": {
      "text/markdown": [
       "<span style=\"color:#33cc33\">Correct</span>"
      ],
      "text/plain": [
       "Correct"
      ]
     },
     "metadata": {},
     "output_type": "display_data"
    }
   ],
   "source": [
    "sorted_varieties = reviews.groupby('variety').price.agg([min, max]).sort_values(by = ['min', 'max'], ascending= False)\n",
    "\n",
    "# Check your answer\n",
    "q4.check()"
   ]
  },
  {
   "cell_type": "code",
   "execution_count": 10,
   "id": "ee100949",
   "metadata": {
    "execution": {
     "iopub.execute_input": "2023-05-28T19:47:04.143338Z",
     "iopub.status.busy": "2023-05-28T19:47:04.142890Z",
     "iopub.status.idle": "2023-05-28T19:47:04.147404Z",
     "shell.execute_reply": "2023-05-28T19:47:04.146183Z"
    },
    "papermill": {
     "duration": 0.017651,
     "end_time": "2023-05-28T19:47:04.149688",
     "exception": false,
     "start_time": "2023-05-28T19:47:04.132037",
     "status": "completed"
    },
    "tags": []
   },
   "outputs": [],
   "source": [
    "#q4.hint()\n",
    "#q4.solution()"
   ]
  },
  {
   "cell_type": "markdown",
   "id": "8d03d904",
   "metadata": {
    "papermill": {
     "duration": 0.009191,
     "end_time": "2023-05-28T19:47:04.168240",
     "exception": false,
     "start_time": "2023-05-28T19:47:04.159049",
     "status": "completed"
    },
    "tags": []
   },
   "source": [
    "## 5.\n",
    "Create a `Series` whose index is reviewers and whose values is the average review score given out by that reviewer. Hint: you will need the `taster_name` and `points` columns."
   ]
  },
  {
   "cell_type": "code",
   "execution_count": 11,
   "id": "fa41c7f1",
   "metadata": {
    "execution": {
     "iopub.execute_input": "2023-05-28T19:47:04.189122Z",
     "iopub.status.busy": "2023-05-28T19:47:04.188708Z",
     "iopub.status.idle": "2023-05-28T19:47:04.225066Z",
     "shell.execute_reply": "2023-05-28T19:47:04.223980Z"
    },
    "papermill": {
     "duration": 0.049713,
     "end_time": "2023-05-28T19:47:04.227465",
     "exception": false,
     "start_time": "2023-05-28T19:47:04.177752",
     "status": "completed"
    },
    "tags": []
   },
   "outputs": [
    {
     "data": {
      "application/javascript": [
       "parent.postMessage({\"jupyterEvent\": \"custom.exercise_interaction\", \"data\": {\"outcomeType\": 1, \"valueTowardsCompletion\": 0.16666666666666666, \"interactionType\": 1, \"questionType\": 1, \"questionId\": \"5_ReviewerMeanRatings\", \"learnToolsVersion\": \"0.3.4\", \"failureMessage\": \"\", \"exceptionClass\": \"\", \"trace\": \"\"}}, \"*\")"
      ],
      "text/plain": [
       "<IPython.core.display.Javascript object>"
      ]
     },
     "metadata": {},
     "output_type": "display_data"
    },
    {
     "data": {
      "text/markdown": [
       "<span style=\"color:#33cc33\">Correct</span>"
      ],
      "text/plain": [
       "Correct"
      ]
     },
     "metadata": {},
     "output_type": "display_data"
    }
   ],
   "source": [
    "reviewer_mean_ratings = reviewer_mean_ratings = reviews.groupby('taster_name').points.mean()\n",
    "\n",
    "# Check your answer\n",
    "q5.check()"
   ]
  },
  {
   "cell_type": "code",
   "execution_count": 12,
   "id": "e52ef8ae",
   "metadata": {
    "execution": {
     "iopub.execute_input": "2023-05-28T19:47:04.248949Z",
     "iopub.status.busy": "2023-05-28T19:47:04.248105Z",
     "iopub.status.idle": "2023-05-28T19:47:04.252447Z",
     "shell.execute_reply": "2023-05-28T19:47:04.251573Z"
    },
    "papermill": {
     "duration": 0.017521,
     "end_time": "2023-05-28T19:47:04.254742",
     "exception": false,
     "start_time": "2023-05-28T19:47:04.237221",
     "status": "completed"
    },
    "tags": []
   },
   "outputs": [],
   "source": [
    "#q5.hint()\n",
    "#q5.solution()"
   ]
  },
  {
   "cell_type": "markdown",
   "id": "6c020c45",
   "metadata": {
    "papermill": {
     "duration": 0.009222,
     "end_time": "2023-05-28T19:47:04.273915",
     "exception": false,
     "start_time": "2023-05-28T19:47:04.264693",
     "status": "completed"
    },
    "tags": []
   },
   "source": [
    "Are there significant differences in the average scores assigned by the various reviewers? Run the cell below to use the `describe()` method to see a summary of the range of values."
   ]
  },
  {
   "cell_type": "code",
   "execution_count": 13,
   "id": "ff70c5fa",
   "metadata": {
    "execution": {
     "iopub.execute_input": "2023-05-28T19:47:04.295375Z",
     "iopub.status.busy": "2023-05-28T19:47:04.294782Z",
     "iopub.status.idle": "2023-05-28T19:47:04.308527Z",
     "shell.execute_reply": "2023-05-28T19:47:04.307506Z"
    },
    "papermill": {
     "duration": 0.027072,
     "end_time": "2023-05-28T19:47:04.310707",
     "exception": false,
     "start_time": "2023-05-28T19:47:04.283635",
     "status": "completed"
    },
    "tags": []
   },
   "outputs": [
    {
     "data": {
      "text/plain": [
       "count    19.000000\n",
       "mean     88.233026\n",
       "std       1.243610\n",
       "min      85.855422\n",
       "25%      87.323501\n",
       "50%      88.536235\n",
       "75%      88.975256\n",
       "max      90.562551\n",
       "Name: points, dtype: float64"
      ]
     },
     "execution_count": 13,
     "metadata": {},
     "output_type": "execute_result"
    }
   ],
   "source": [
    "reviewer_mean_ratings.describe()"
   ]
  },
  {
   "cell_type": "markdown",
   "id": "56cf9ddf",
   "metadata": {
    "papermill": {
     "duration": 0.009471,
     "end_time": "2023-05-28T19:47:04.330031",
     "exception": false,
     "start_time": "2023-05-28T19:47:04.320560",
     "status": "completed"
    },
    "tags": []
   },
   "source": [
    "## 6.\n",
    "What combination of countries and varieties are most common? Create a `Series` whose index is a `MultiIndex`of `{country, variety}` pairs. For example, a pinot noir produced in the US should map to `{\"US\", \"Pinot Noir\"}`. Sort the values in the `Series` in descending order based on wine count."
   ]
  },
  {
   "cell_type": "code",
   "execution_count": 14,
   "id": "96485cc6",
   "metadata": {
    "execution": {
     "iopub.execute_input": "2023-05-28T19:47:04.352070Z",
     "iopub.status.busy": "2023-05-28T19:47:04.350881Z",
     "iopub.status.idle": "2023-05-28T19:47:04.417424Z",
     "shell.execute_reply": "2023-05-28T19:47:04.416430Z"
    },
    "papermill": {
     "duration": 0.079952,
     "end_time": "2023-05-28T19:47:04.419771",
     "exception": false,
     "start_time": "2023-05-28T19:47:04.339819",
     "status": "completed"
    },
    "tags": []
   },
   "outputs": [
    {
     "data": {
      "application/javascript": [
       "parent.postMessage({\"jupyterEvent\": \"custom.exercise_interaction\", \"data\": {\"outcomeType\": 1, \"valueTowardsCompletion\": 0.16666666666666666, \"interactionType\": 1, \"questionType\": 1, \"questionId\": \"6_GroupbyCountryVariety\", \"learnToolsVersion\": \"0.3.4\", \"failureMessage\": \"\", \"exceptionClass\": \"\", \"trace\": \"\"}}, \"*\")"
      ],
      "text/plain": [
       "<IPython.core.display.Javascript object>"
      ]
     },
     "metadata": {},
     "output_type": "display_data"
    },
    {
     "data": {
      "text/markdown": [
       "<span style=\"color:#33cc33\">Correct</span>"
      ],
      "text/plain": [
       "Correct"
      ]
     },
     "metadata": {},
     "output_type": "display_data"
    }
   ],
   "source": [
    "country_variety_counts = reviews.groupby(['country', 'variety']).size().sort_values(ascending=False)\n",
    "\n",
    "# Check your answer\n",
    "q6.check()"
   ]
  },
  {
   "cell_type": "code",
   "execution_count": 15,
   "id": "fe2853e8",
   "metadata": {
    "execution": {
     "iopub.execute_input": "2023-05-28T19:47:04.441729Z",
     "iopub.status.busy": "2023-05-28T19:47:04.441348Z",
     "iopub.status.idle": "2023-05-28T19:47:04.446276Z",
     "shell.execute_reply": "2023-05-28T19:47:04.444979Z"
    },
    "papermill": {
     "duration": 0.01899,
     "end_time": "2023-05-28T19:47:04.448760",
     "exception": false,
     "start_time": "2023-05-28T19:47:04.429770",
     "status": "completed"
    },
    "tags": []
   },
   "outputs": [],
   "source": [
    "#q6.hint()\n",
    "#q6.solution()"
   ]
  },
  {
   "cell_type": "markdown",
   "id": "b6e360ab",
   "metadata": {
    "papermill": {
     "duration": 0.0102,
     "end_time": "2023-05-28T19:47:04.469122",
     "exception": false,
     "start_time": "2023-05-28T19:47:04.458922",
     "status": "completed"
    },
    "tags": []
   },
   "source": [
    "# Keep going\n",
    "\n",
    "Move on to the [**data types and missing data**](https://www.kaggle.com/residentmario/data-types-and-missing-values)."
   ]
  },
  {
   "cell_type": "markdown",
   "id": "5246c7a2",
   "metadata": {
    "papermill": {
     "duration": 0.009734,
     "end_time": "2023-05-28T19:47:04.489218",
     "exception": false,
     "start_time": "2023-05-28T19:47:04.479484",
     "status": "completed"
    },
    "tags": []
   },
   "source": [
    "---\n",
    "\n",
    "\n",
    "\n",
    "\n",
    "*Have questions or comments? Visit the [course discussion forum](https://www.kaggle.com/learn/pandas/discussion) to chat with other learners.*"
   ]
  }
 ],
 "metadata": {
  "kernelspec": {
   "display_name": "Python 3",
   "language": "python",
   "name": "python3"
  },
  "language_info": {
   "codemirror_mode": {
    "name": "ipython",
    "version": 3
   },
   "file_extension": ".py",
   "mimetype": "text/x-python",
   "name": "python",
   "nbconvert_exporter": "python",
   "pygments_lexer": "ipython3",
   "version": "3.10.10"
  },
  "papermill": {
   "default_parameters": {},
   "duration": 17.225795,
   "end_time": "2023-05-28T19:47:05.421443",
   "environment_variables": {},
   "exception": null,
   "input_path": "__notebook__.ipynb",
   "output_path": "__notebook__.ipynb",
   "parameters": {},
   "start_time": "2023-05-28T19:46:48.195648",
   "version": "2.4.0"
  }
 },
 "nbformat": 4,
 "nbformat_minor": 5
}
