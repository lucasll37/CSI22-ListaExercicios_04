{
 "cells": [
  {
   "cell_type": "markdown",
   "id": "69b023e6",
   "metadata": {
    "papermill": {
     "duration": 0.006202,
     "end_time": "2023-05-28T19:51:20.207924",
     "exception": false,
     "start_time": "2023-05-28T19:51:20.201722",
     "status": "completed"
    },
    "tags": []
   },
   "source": [
    "**This notebook is an exercise in the [Pandas](https://www.kaggle.com/learn/pandas) course.  You can reference the tutorial at [this link](https://www.kaggle.com/residentmario/data-types-and-missing-values).**\n",
    "\n",
    "---\n"
   ]
  },
  {
   "cell_type": "markdown",
   "id": "ccecc193",
   "metadata": {
    "papermill": {
     "duration": 0.005294,
     "end_time": "2023-05-28T19:51:20.218992",
     "exception": false,
     "start_time": "2023-05-28T19:51:20.213698",
     "status": "completed"
    },
    "tags": []
   },
   "source": [
    "# Introduction\n",
    "\n",
    "Run the following cell to load your data and some utility functions."
   ]
  },
  {
   "cell_type": "code",
   "execution_count": 1,
   "id": "d211b680",
   "metadata": {
    "execution": {
     "iopub.execute_input": "2023-05-28T19:51:20.232244Z",
     "iopub.status.busy": "2023-05-28T19:51:20.231792Z",
     "iopub.status.idle": "2023-05-28T19:51:23.576538Z",
     "shell.execute_reply": "2023-05-28T19:51:23.574929Z"
    },
    "papermill": {
     "duration": 3.354953,
     "end_time": "2023-05-28T19:51:23.579582",
     "exception": false,
     "start_time": "2023-05-28T19:51:20.224629",
     "status": "completed"
    },
    "tags": []
   },
   "outputs": [
    {
     "name": "stdout",
     "output_type": "stream",
     "text": [
      "Setup complete.\n"
     ]
    }
   ],
   "source": [
    "import pandas as pd\n",
    "\n",
    "reviews = pd.read_csv(\"../input/wine-reviews/winemag-data-130k-v2.csv\", index_col=0)\n",
    "\n",
    "from learntools.core import binder; binder.bind(globals())\n",
    "from learntools.pandas.data_types_and_missing_data import *\n",
    "print(\"Setup complete.\")"
   ]
  },
  {
   "cell_type": "markdown",
   "id": "7bace345",
   "metadata": {
    "papermill": {
     "duration": 0.005712,
     "end_time": "2023-05-28T19:51:23.591901",
     "exception": false,
     "start_time": "2023-05-28T19:51:23.586189",
     "status": "completed"
    },
    "tags": []
   },
   "source": [
    "# Exercises"
   ]
  },
  {
   "cell_type": "markdown",
   "id": "14a1956b",
   "metadata": {
    "papermill": {
     "duration": 0.005505,
     "end_time": "2023-05-28T19:51:23.603410",
     "exception": false,
     "start_time": "2023-05-28T19:51:23.597905",
     "status": "completed"
    },
    "tags": []
   },
   "source": [
    "## 1. \n",
    "What is the data type of the `points` column in the dataset?"
   ]
  },
  {
   "cell_type": "code",
   "execution_count": 2,
   "id": "c943411c",
   "metadata": {
    "execution": {
     "iopub.execute_input": "2023-05-28T19:51:23.616890Z",
     "iopub.status.busy": "2023-05-28T19:51:23.616488Z",
     "iopub.status.idle": "2023-05-28T19:51:23.628585Z",
     "shell.execute_reply": "2023-05-28T19:51:23.627253Z"
    },
    "papermill": {
     "duration": 0.021813,
     "end_time": "2023-05-28T19:51:23.631094",
     "exception": false,
     "start_time": "2023-05-28T19:51:23.609281",
     "status": "completed"
    },
    "tags": []
   },
   "outputs": [
    {
     "data": {
      "application/javascript": [
       "parent.postMessage({\"jupyterEvent\": \"custom.exercise_interaction\", \"data\": {\"outcomeType\": 1, \"valueTowardsCompletion\": 0.25, \"interactionType\": 1, \"questionType\": 1, \"questionId\": \"1_PointsDtype\", \"learnToolsVersion\": \"0.3.4\", \"failureMessage\": \"\", \"exceptionClass\": \"\", \"trace\": \"\"}}, \"*\")"
      ],
      "text/plain": [
       "<IPython.core.display.Javascript object>"
      ]
     },
     "metadata": {},
     "output_type": "display_data"
    },
    {
     "data": {
      "text/markdown": [
       "<span style=\"color:#33cc33\">Correct</span>"
      ],
      "text/plain": [
       "Correct"
      ]
     },
     "metadata": {},
     "output_type": "display_data"
    }
   ],
   "source": [
    "# Your code here\n",
    "dtype = reviews.points.dtype\n",
    "\n",
    "# Check your answer\n",
    "q1.check()"
   ]
  },
  {
   "cell_type": "code",
   "execution_count": 3,
   "id": "9f43edb7",
   "metadata": {
    "execution": {
     "iopub.execute_input": "2023-05-28T19:51:23.647452Z",
     "iopub.status.busy": "2023-05-28T19:51:23.646320Z",
     "iopub.status.idle": "2023-05-28T19:51:23.651397Z",
     "shell.execute_reply": "2023-05-28T19:51:23.650527Z"
    },
    "papermill": {
     "duration": 0.015113,
     "end_time": "2023-05-28T19:51:23.653930",
     "exception": false,
     "start_time": "2023-05-28T19:51:23.638817",
     "status": "completed"
    },
    "tags": []
   },
   "outputs": [],
   "source": [
    "#q1.hint()\n",
    "#q1.solution()"
   ]
  },
  {
   "cell_type": "markdown",
   "id": "c21a98d2",
   "metadata": {
    "papermill": {
     "duration": 0.006043,
     "end_time": "2023-05-28T19:51:23.666209",
     "exception": false,
     "start_time": "2023-05-28T19:51:23.660166",
     "status": "completed"
    },
    "tags": []
   },
   "source": [
    "## 2. \n",
    "Create a Series from entries in the `points` column, but convert the entries to strings. Hint: strings are `str` in native Python."
   ]
  },
  {
   "cell_type": "code",
   "execution_count": 4,
   "id": "0d9820fd",
   "metadata": {
    "execution": {
     "iopub.execute_input": "2023-05-28T19:51:23.680791Z",
     "iopub.status.busy": "2023-05-28T19:51:23.680332Z",
     "iopub.status.idle": "2023-05-28T19:51:23.785323Z",
     "shell.execute_reply": "2023-05-28T19:51:23.784143Z"
    },
    "papermill": {
     "duration": 0.114899,
     "end_time": "2023-05-28T19:51:23.787686",
     "exception": false,
     "start_time": "2023-05-28T19:51:23.672787",
     "status": "completed"
    },
    "tags": []
   },
   "outputs": [
    {
     "data": {
      "application/javascript": [
       "parent.postMessage({\"jupyterEvent\": \"custom.exercise_interaction\", \"data\": {\"outcomeType\": 1, \"valueTowardsCompletion\": 0.25, \"interactionType\": 1, \"questionType\": 1, \"questionId\": \"2_StrPoints\", \"learnToolsVersion\": \"0.3.4\", \"failureMessage\": \"\", \"exceptionClass\": \"\", \"trace\": \"\"}}, \"*\")"
      ],
      "text/plain": [
       "<IPython.core.display.Javascript object>"
      ]
     },
     "metadata": {},
     "output_type": "display_data"
    },
    {
     "data": {
      "text/markdown": [
       "<span style=\"color:#33cc33\">Correct</span>"
      ],
      "text/plain": [
       "Correct"
      ]
     },
     "metadata": {},
     "output_type": "display_data"
    }
   ],
   "source": [
    "point_strings = reviews.points.astype(str)\n",
    "\n",
    "# Check your answer\n",
    "q2.check()"
   ]
  },
  {
   "cell_type": "code",
   "execution_count": 5,
   "id": "ccd6a9b8",
   "metadata": {
    "execution": {
     "iopub.execute_input": "2023-05-28T19:51:23.802653Z",
     "iopub.status.busy": "2023-05-28T19:51:23.802251Z",
     "iopub.status.idle": "2023-05-28T19:51:23.807267Z",
     "shell.execute_reply": "2023-05-28T19:51:23.806072Z"
    },
    "papermill": {
     "duration": 0.015658,
     "end_time": "2023-05-28T19:51:23.809903",
     "exception": false,
     "start_time": "2023-05-28T19:51:23.794245",
     "status": "completed"
    },
    "tags": []
   },
   "outputs": [],
   "source": [
    "#q2.hint()\n",
    "#q2.solution()"
   ]
  },
  {
   "cell_type": "markdown",
   "id": "a06fcc12",
   "metadata": {
    "papermill": {
     "duration": 0.00641,
     "end_time": "2023-05-28T19:51:23.823111",
     "exception": false,
     "start_time": "2023-05-28T19:51:23.816701",
     "status": "completed"
    },
    "tags": []
   },
   "source": [
    "## 3.\n",
    "Sometimes the price column is null. How many reviews in the dataset are missing a price?"
   ]
  },
  {
   "cell_type": "code",
   "execution_count": 6,
   "id": "c39a4bea",
   "metadata": {
    "execution": {
     "iopub.execute_input": "2023-05-28T19:51:23.838381Z",
     "iopub.status.busy": "2023-05-28T19:51:23.837863Z",
     "iopub.status.idle": "2023-05-28T19:51:23.848725Z",
     "shell.execute_reply": "2023-05-28T19:51:23.847519Z"
    },
    "papermill": {
     "duration": 0.021145,
     "end_time": "2023-05-28T19:51:23.851171",
     "exception": false,
     "start_time": "2023-05-28T19:51:23.830026",
     "status": "completed"
    },
    "tags": []
   },
   "outputs": [
    {
     "data": {
      "application/javascript": [
       "parent.postMessage({\"jupyterEvent\": \"custom.exercise_interaction\", \"data\": {\"outcomeType\": 1, \"valueTowardsCompletion\": 0.25, \"interactionType\": 1, \"questionType\": 1, \"questionId\": \"3_CountMissingPrices\", \"learnToolsVersion\": \"0.3.4\", \"failureMessage\": \"\", \"exceptionClass\": \"\", \"trace\": \"\"}}, \"*\")"
      ],
      "text/plain": [
       "<IPython.core.display.Javascript object>"
      ]
     },
     "metadata": {},
     "output_type": "display_data"
    },
    {
     "data": {
      "text/markdown": [
       "<span style=\"color:#33cc33\">Correct</span>"
      ],
      "text/plain": [
       "Correct"
      ]
     },
     "metadata": {},
     "output_type": "display_data"
    }
   ],
   "source": [
    "n_missing_prices = reviews.price.isnull().sum()\n",
    "\n",
    "# Check your answer\n",
    "q3.check()"
   ]
  },
  {
   "cell_type": "code",
   "execution_count": 7,
   "id": "16f295cd",
   "metadata": {
    "execution": {
     "iopub.execute_input": "2023-05-28T19:51:23.866669Z",
     "iopub.status.busy": "2023-05-28T19:51:23.866272Z",
     "iopub.status.idle": "2023-05-28T19:51:23.870985Z",
     "shell.execute_reply": "2023-05-28T19:51:23.869884Z"
    },
    "papermill": {
     "duration": 0.015421,
     "end_time": "2023-05-28T19:51:23.873459",
     "exception": false,
     "start_time": "2023-05-28T19:51:23.858038",
     "status": "completed"
    },
    "tags": []
   },
   "outputs": [],
   "source": [
    "#q3.hint()\n",
    "#q3.solution()"
   ]
  },
  {
   "cell_type": "markdown",
   "id": "a3a3605c",
   "metadata": {
    "papermill": {
     "duration": 0.006598,
     "end_time": "2023-05-28T19:51:23.886915",
     "exception": false,
     "start_time": "2023-05-28T19:51:23.880317",
     "status": "completed"
    },
    "tags": []
   },
   "source": [
    "## 4.\n",
    "What are the most common wine-producing regions? Create a Series counting the number of times each value occurs in the `region_1` field. This field is often missing data, so replace missing values with `Unknown`. Sort in descending order.  Your output should look something like this:\n",
    "\n",
    "```\n",
    "Unknown                    21247\n",
    "Napa Valley                 4480\n",
    "                           ...  \n",
    "Bardolino Superiore            1\n",
    "Primitivo del Tarantino        1\n",
    "Name: region_1, Length: 1230, dtype: int64\n",
    "```"
   ]
  },
  {
   "cell_type": "code",
   "execution_count": 8,
   "id": "e33e64fe",
   "metadata": {
    "execution": {
     "iopub.execute_input": "2023-05-28T19:51:23.903313Z",
     "iopub.status.busy": "2023-05-28T19:51:23.902926Z",
     "iopub.status.idle": "2023-05-28T19:51:23.987337Z",
     "shell.execute_reply": "2023-05-28T19:51:23.986310Z"
    },
    "papermill": {
     "duration": 0.096018,
     "end_time": "2023-05-28T19:51:23.989815",
     "exception": false,
     "start_time": "2023-05-28T19:51:23.893797",
     "status": "completed"
    },
    "tags": []
   },
   "outputs": [
    {
     "data": {
      "application/javascript": [
       "parent.postMessage({\"jupyterEvent\": \"custom.exercise_interaction\", \"data\": {\"outcomeType\": 1, \"valueTowardsCompletion\": 0.25, \"interactionType\": 1, \"questionType\": 2, \"questionId\": \"4_ReviewsPerRegion\", \"learnToolsVersion\": \"0.3.4\", \"failureMessage\": \"\", \"exceptionClass\": \"\", \"trace\": \"\"}}, \"*\")"
      ],
      "text/plain": [
       "<IPython.core.display.Javascript object>"
      ]
     },
     "metadata": {},
     "output_type": "display_data"
    },
    {
     "data": {
      "text/markdown": [
       "<span style=\"color:#33cc33\">Correct</span>"
      ],
      "text/plain": [
       "Correct"
      ]
     },
     "metadata": {},
     "output_type": "display_data"
    }
   ],
   "source": [
    "reviews_per_region = reviews.region_1.fillna('Unknown').value_counts().sort_values(ascending=False)\n",
    "\n",
    "# Check your answer\n",
    "q4.check()"
   ]
  },
  {
   "cell_type": "code",
   "execution_count": 9,
   "id": "a822e342",
   "metadata": {
    "execution": {
     "iopub.execute_input": "2023-05-28T19:51:24.006315Z",
     "iopub.status.busy": "2023-05-28T19:51:24.005873Z",
     "iopub.status.idle": "2023-05-28T19:51:24.010460Z",
     "shell.execute_reply": "2023-05-28T19:51:24.009221Z"
    },
    "papermill": {
     "duration": 0.015803,
     "end_time": "2023-05-28T19:51:24.012961",
     "exception": false,
     "start_time": "2023-05-28T19:51:23.997158",
     "status": "completed"
    },
    "tags": []
   },
   "outputs": [],
   "source": [
    "#q4.hint()\n",
    "#q4.solution()"
   ]
  },
  {
   "cell_type": "markdown",
   "id": "85fdbfc9",
   "metadata": {
    "papermill": {
     "duration": 0.007951,
     "end_time": "2023-05-28T19:51:24.028153",
     "exception": false,
     "start_time": "2023-05-28T19:51:24.020202",
     "status": "completed"
    },
    "tags": []
   },
   "source": [
    "# Keep going\n",
    "\n",
    "Move on to **[renaming and combining](https://www.kaggle.com/residentmario/renaming-and-combining)**."
   ]
  },
  {
   "cell_type": "markdown",
   "id": "612e7b72",
   "metadata": {
    "papermill": {
     "duration": 0.006939,
     "end_time": "2023-05-28T19:51:24.042333",
     "exception": false,
     "start_time": "2023-05-28T19:51:24.035394",
     "status": "completed"
    },
    "tags": []
   },
   "source": [
    "---\n",
    "\n",
    "\n",
    "\n",
    "\n",
    "*Have questions or comments? Visit the [course discussion forum](https://www.kaggle.com/learn/pandas/discussion) to chat with other learners.*"
   ]
  }
 ],
 "metadata": {
  "kernelspec": {
   "display_name": "Python 3",
   "language": "python",
   "name": "python3"
  },
  "language_info": {
   "codemirror_mode": {
    "name": "ipython",
    "version": 3
   },
   "file_extension": ".py",
   "mimetype": "text/x-python",
   "name": "python",
   "nbconvert_exporter": "python",
   "pygments_lexer": "ipython3",
   "version": "3.10.10"
  },
  "papermill": {
   "default_parameters": {},
   "duration": 17.735127,
   "end_time": "2023-05-28T19:51:24.972198",
   "environment_variables": {},
   "exception": null,
   "input_path": "__notebook__.ipynb",
   "output_path": "__notebook__.ipynb",
   "parameters": {},
   "start_time": "2023-05-28T19:51:07.237071",
   "version": "2.4.0"
  }
 },
 "nbformat": 4,
 "nbformat_minor": 5
}
